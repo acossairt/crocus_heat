{
 "cells": [
  {
   "cell_type": "markdown",
   "metadata": {},
   "source": [
    "# Cleaning geospatial boundary data\n",
    "Here you will find links to access geospatial data about the city of Chicago in its raw form. This notebook also shows exactly how I cleaned this data for use in analysis."
   ]
  },
  {
   "cell_type": "code",
   "execution_count": 33,
   "metadata": {},
   "outputs": [],
   "source": [
    "import geopandas as gpd\n",
    "raw_data_path = \"./boundaries_geospatial_raw/\"\n",
    "clean_data_path = \"./boundaries_geospatial_clean/\""
   ]
  },
  {
   "cell_type": "markdown",
   "metadata": {},
   "source": [
    "### Community Areas boundary shape data\n",
    "Source: https://data.cityofchicago.org/Facilities-Geographic-Boundaries/Boundaries-Community-Areas-current-/cauq-8yn6\n",
    "\n",
    "Reference Map of Chicago community areas: https://robparal.com/wp-content/uploads/CommunityAreaReferenceMap.pdf"
   ]
  },
  {
   "cell_type": "code",
   "execution_count": 55,
   "metadata": {
    "tags": []
   },
   "outputs": [],
   "source": [
    "# Chicago community areas\n",
    "commareas = gpd.read_file(raw_data_path + \"chi_commareas_2018/geo_export_a4ae8b3f-a0a1-4b16-a202-eaf896cc4214.shp\")"
   ]
  },
  {
   "cell_type": "code",
   "execution_count": 56,
   "metadata": {
    "tags": []
   },
   "outputs": [
    {
     "data": {
      "text/plain": [
       "Index(['area', 'area_num_1', 'area_numbe', 'comarea', 'comarea_id',\n",
       "       'community', 'perimeter', 'shape_area', 'shape_len', 'geometry'],\n",
       "      dtype='object')"
      ]
     },
     "execution_count": 56,
     "metadata": {},
     "output_type": "execute_result"
    }
   ],
   "source": [
    "# Check out the attributes in this dataset\n",
    "commareas.columns"
   ]
  },
  {
   "cell_type": "code",
   "execution_count": 57,
   "metadata": {},
   "outputs": [
    {
     "data": {
      "text/plain": [
       "Index(['area_num', 'community', 'shape_area', 'shape_len', 'geometry'], dtype='object')"
      ]
     },
     "execution_count": 57,
     "metadata": {},
     "output_type": "execute_result"
    }
   ],
   "source": [
    "# Remove redundant attributes, rename others\n",
    "commareas.drop(columns=[\"area\", \"area_num_1\", \"comarea\", \"comarea_id\", \"perimeter\"], axis=1, inplace=True)\n",
    "commareas.rename(columns={\"area_numbe\": \"area_num\"}, inplace=True)\n",
    "commareas.columns"
   ]
  },
  {
   "cell_type": "code",
   "execution_count": 58,
   "metadata": {},
   "outputs": [
    {
     "data": {
      "text/plain": [
       "area_num         int64\n",
       "community       object\n",
       "shape_area     float64\n",
       "shape_len      float64\n",
       "geometry      geometry\n",
       "dtype: object"
      ]
     },
     "execution_count": 58,
     "metadata": {},
     "output_type": "execute_result"
    }
   ],
   "source": [
    "# Adjust dtypes\n",
    "commareas.area_num = commareas.area_num.astype(\"int64\")\n",
    "commareas.dtypes"
   ]
  },
  {
   "cell_type": "code",
   "execution_count": 59,
   "metadata": {
    "tags": []
   },
   "outputs": [],
   "source": [
    "# Save cleaned data\n",
    "commareas.to_file(clean_data_path + r\"chi_commareas_2018_clean.shp\", index_label = False)"
   ]
  },
  {
   "cell_type": "code",
   "execution_count": 62,
   "metadata": {},
   "outputs": [
    {
     "data": {
      "text/plain": [
       "array(['DOUGLAS', 'OAKLAND', 'FULLER PARK', 'GRAND BOULEVARD', 'KENWOOD',\n",
       "       'LINCOLN SQUARE', 'WASHINGTON PARK', 'HYDE PARK', 'WOODLAWN',\n",
       "       'ROGERS PARK', 'JEFFERSON PARK', 'FOREST GLEN', 'NORTH PARK',\n",
       "       'ALBANY PARK', 'PORTAGE PARK', 'IRVING PARK', 'DUNNING',\n",
       "       'MONTCLARE', 'BELMONT CRAGIN', 'WEST RIDGE', 'HERMOSA', 'AVONDALE',\n",
       "       'LOGAN SQUARE', 'HUMBOLDT PARK', 'WEST TOWN', 'AUSTIN',\n",
       "       'WEST GARFIELD PARK', 'EAST GARFIELD PARK', 'NEAR WEST SIDE',\n",
       "       'NORTH LAWNDALE', 'UPTOWN', 'SOUTH LAWNDALE', 'LOWER WEST SIDE',\n",
       "       'NEAR SOUTH SIDE', 'ARMOUR SQUARE', 'NORWOOD PARK',\n",
       "       'NEAR NORTH SIDE', 'LOOP', 'SOUTH SHORE', 'CHATHAM', 'AVALON PARK',\n",
       "       'SOUTH CHICAGO', 'BURNSIDE', 'MCKINLEY PARK', 'LAKE VIEW',\n",
       "       'CALUMET HEIGHTS', 'ROSELAND', 'NORTH CENTER', 'PULLMAN',\n",
       "       'SOUTH DEERING', 'EAST SIDE', 'WEST PULLMAN', 'RIVERDALE',\n",
       "       'HEGEWISCH', 'GARFIELD RIDGE', 'ARCHER HEIGHTS', 'BRIGHTON PARK',\n",
       "       'BRIDGEPORT', 'NEW CITY', 'WEST ELSDON', 'GAGE PARK', 'CLEARING',\n",
       "       'WEST LAWN', 'CHICAGO LAWN', 'WEST ENGLEWOOD', 'ENGLEWOOD',\n",
       "       'GREATER GRAND CROSSING', 'LINCOLN PARK', 'ASHBURN',\n",
       "       'AUBURN GRESHAM', 'BEVERLY', 'WASHINGTON HEIGHTS',\n",
       "       'MOUNT GREENWOOD', 'MORGAN PARK', 'OHARE', 'EDGEWATER',\n",
       "       'EDISON PARK'], dtype=object)"
      ]
     },
     "execution_count": 62,
     "metadata": {},
     "output_type": "execute_result"
    }
   ],
   "source": [
    "commareas.community.values"
   ]
  },
  {
   "cell_type": "markdown",
   "metadata": {},
   "source": [
    "### Zip codes boundary shape data\n",
    "Source: https://data.cityofchicago.org/Facilities-Geographic-Boundaries/Boundaries-ZIP-Codes/gdcf-axmw"
   ]
  },
  {
   "cell_type": "code",
   "execution_count": 63,
   "metadata": {},
   "outputs": [],
   "source": [
    "# Chicago zip codes\n",
    "zip_codes = gpd.read_file(raw_data_path + \"chi_zip_codes_2020/geo_export_d4cf5267-d480-4b46-bde6-3996533d98ab.shp\")"
   ]
  },
  {
   "cell_type": "code",
   "execution_count": 64,
   "metadata": {},
   "outputs": [
    {
     "name": "stdout",
     "output_type": "stream",
     "text": [
      "Index(['objectid', 'shape_area', 'shape_len', 'zip', 'geometry'], dtype='object')\n"
     ]
    },
    {
     "data": {
      "text/html": [
       "<div>\n",
       "<style scoped>\n",
       "    .dataframe tbody tr th:only-of-type {\n",
       "        vertical-align: middle;\n",
       "    }\n",
       "\n",
       "    .dataframe tbody tr th {\n",
       "        vertical-align: top;\n",
       "    }\n",
       "\n",
       "    .dataframe thead th {\n",
       "        text-align: right;\n",
       "    }\n",
       "</style>\n",
       "<table border=\"1\" class=\"dataframe\">\n",
       "  <thead>\n",
       "    <tr style=\"text-align: right;\">\n",
       "      <th></th>\n",
       "      <th>objectid</th>\n",
       "      <th>shape_area</th>\n",
       "      <th>shape_len</th>\n",
       "      <th>zip</th>\n",
       "      <th>geometry</th>\n",
       "    </tr>\n",
       "  </thead>\n",
       "  <tbody>\n",
       "    <tr>\n",
       "      <th>0</th>\n",
       "      <td>33.0</td>\n",
       "      <td>1.060523e+08</td>\n",
       "      <td>42720.044406</td>\n",
       "      <td>60647</td>\n",
       "      <td>POLYGON ((-87.67762 41.91776, -87.67761 41.917...</td>\n",
       "    </tr>\n",
       "    <tr>\n",
       "      <th>1</th>\n",
       "      <td>34.0</td>\n",
       "      <td>1.274761e+08</td>\n",
       "      <td>48103.782721</td>\n",
       "      <td>60639</td>\n",
       "      <td>POLYGON ((-87.72683 41.92265, -87.72693 41.922...</td>\n",
       "    </tr>\n",
       "    <tr>\n",
       "      <th>2</th>\n",
       "      <td>35.0</td>\n",
       "      <td>4.506904e+07</td>\n",
       "      <td>27288.609612</td>\n",
       "      <td>60707</td>\n",
       "      <td>POLYGON ((-87.78500 41.90915, -87.78531 41.909...</td>\n",
       "    </tr>\n",
       "    <tr>\n",
       "      <th>3</th>\n",
       "      <td>36.0</td>\n",
       "      <td>7.085383e+07</td>\n",
       "      <td>42527.989679</td>\n",
       "      <td>60622</td>\n",
       "      <td>POLYGON ((-87.66707 41.88885, -87.66707 41.888...</td>\n",
       "    </tr>\n",
       "    <tr>\n",
       "      <th>4</th>\n",
       "      <td>37.0</td>\n",
       "      <td>9.903962e+07</td>\n",
       "      <td>47970.140153</td>\n",
       "      <td>60651</td>\n",
       "      <td>POLYGON ((-87.70656 41.89555, -87.70672 41.895...</td>\n",
       "    </tr>\n",
       "    <tr>\n",
       "      <th>...</th>\n",
       "      <td>...</td>\n",
       "      <td>...</td>\n",
       "      <td>...</td>\n",
       "      <td>...</td>\n",
       "      <td>...</td>\n",
       "    </tr>\n",
       "    <tr>\n",
       "      <th>56</th>\n",
       "      <td>57.0</td>\n",
       "      <td>1.552855e+08</td>\n",
       "      <td>53406.915617</td>\n",
       "      <td>60623</td>\n",
       "      <td>POLYGON ((-87.69479 41.83008, -87.69486 41.830...</td>\n",
       "    </tr>\n",
       "    <tr>\n",
       "      <th>57</th>\n",
       "      <td>58.0</td>\n",
       "      <td>2.111148e+08</td>\n",
       "      <td>58701.325375</td>\n",
       "      <td>60629</td>\n",
       "      <td>POLYGON ((-87.68306 41.75786, -87.68306 41.757...</td>\n",
       "    </tr>\n",
       "    <tr>\n",
       "      <th>58</th>\n",
       "      <td>59.0</td>\n",
       "      <td>2.116961e+08</td>\n",
       "      <td>58466.160298</td>\n",
       "      <td>60620</td>\n",
       "      <td>POLYGON ((-87.62373 41.72167, -87.62388 41.721...</td>\n",
       "    </tr>\n",
       "    <tr>\n",
       "      <th>59</th>\n",
       "      <td>60.0</td>\n",
       "      <td>1.254243e+08</td>\n",
       "      <td>52377.854541</td>\n",
       "      <td>60637</td>\n",
       "      <td>POLYGON ((-87.57691 41.79511, -87.57700 41.795...</td>\n",
       "    </tr>\n",
       "    <tr>\n",
       "      <th>60</th>\n",
       "      <td>61.0</td>\n",
       "      <td>1.678720e+08</td>\n",
       "      <td>53040.907078</td>\n",
       "      <td>60619</td>\n",
       "      <td>POLYGON ((-87.58592 41.75150, -87.58592 41.751...</td>\n",
       "    </tr>\n",
       "  </tbody>\n",
       "</table>\n",
       "<p>61 rows × 5 columns</p>\n",
       "</div>"
      ],
      "text/plain": [
       "    objectid    shape_area     shape_len    zip  \\\n",
       "0       33.0  1.060523e+08  42720.044406  60647   \n",
       "1       34.0  1.274761e+08  48103.782721  60639   \n",
       "2       35.0  4.506904e+07  27288.609612  60707   \n",
       "3       36.0  7.085383e+07  42527.989679  60622   \n",
       "4       37.0  9.903962e+07  47970.140153  60651   \n",
       "..       ...           ...           ...    ...   \n",
       "56      57.0  1.552855e+08  53406.915617  60623   \n",
       "57      58.0  2.111148e+08  58701.325375  60629   \n",
       "58      59.0  2.116961e+08  58466.160298  60620   \n",
       "59      60.0  1.254243e+08  52377.854541  60637   \n",
       "60      61.0  1.678720e+08  53040.907078  60619   \n",
       "\n",
       "                                             geometry  \n",
       "0   POLYGON ((-87.67762 41.91776, -87.67761 41.917...  \n",
       "1   POLYGON ((-87.72683 41.92265, -87.72693 41.922...  \n",
       "2   POLYGON ((-87.78500 41.90915, -87.78531 41.909...  \n",
       "3   POLYGON ((-87.66707 41.88885, -87.66707 41.888...  \n",
       "4   POLYGON ((-87.70656 41.89555, -87.70672 41.895...  \n",
       "..                                                ...  \n",
       "56  POLYGON ((-87.69479 41.83008, -87.69486 41.830...  \n",
       "57  POLYGON ((-87.68306 41.75786, -87.68306 41.757...  \n",
       "58  POLYGON ((-87.62373 41.72167, -87.62388 41.721...  \n",
       "59  POLYGON ((-87.57691 41.79511, -87.57700 41.795...  \n",
       "60  POLYGON ((-87.58592 41.75150, -87.58592 41.751...  \n",
       "\n",
       "[61 rows x 5 columns]"
      ]
     },
     "execution_count": 64,
     "metadata": {},
     "output_type": "execute_result"
    }
   ],
   "source": [
    "# Check out the attributes in this dataset\n",
    "print(zip_codes.columns)\n",
    "zip_codes"
   ]
  },
  {
   "cell_type": "code",
   "execution_count": 29,
   "metadata": {},
   "outputs": [
    {
     "data": {
      "text/html": [
       "<div>\n",
       "<style scoped>\n",
       "    .dataframe tbody tr th:only-of-type {\n",
       "        vertical-align: middle;\n",
       "    }\n",
       "\n",
       "    .dataframe tbody tr th {\n",
       "        vertical-align: top;\n",
       "    }\n",
       "\n",
       "    .dataframe thead th {\n",
       "        text-align: right;\n",
       "    }\n",
       "</style>\n",
       "<table border=\"1\" class=\"dataframe\">\n",
       "  <thead>\n",
       "    <tr style=\"text-align: right;\">\n",
       "      <th></th>\n",
       "      <th>zip</th>\n",
       "      <th>shape_area</th>\n",
       "      <th>shape_len</th>\n",
       "      <th>geometry</th>\n",
       "    </tr>\n",
       "  </thead>\n",
       "  <tbody>\n",
       "    <tr>\n",
       "      <th>0</th>\n",
       "      <td>60647</td>\n",
       "      <td>1.060523e+08</td>\n",
       "      <td>42720.044406</td>\n",
       "      <td>POLYGON ((-87.67762 41.91776, -87.67761 41.917...</td>\n",
       "    </tr>\n",
       "    <tr>\n",
       "      <th>1</th>\n",
       "      <td>60639</td>\n",
       "      <td>1.274761e+08</td>\n",
       "      <td>48103.782721</td>\n",
       "      <td>POLYGON ((-87.72683 41.92265, -87.72693 41.922...</td>\n",
       "    </tr>\n",
       "    <tr>\n",
       "      <th>2</th>\n",
       "      <td>60707</td>\n",
       "      <td>4.506904e+07</td>\n",
       "      <td>27288.609612</td>\n",
       "      <td>POLYGON ((-87.78500 41.90915, -87.78531 41.909...</td>\n",
       "    </tr>\n",
       "    <tr>\n",
       "      <th>3</th>\n",
       "      <td>60622</td>\n",
       "      <td>7.085383e+07</td>\n",
       "      <td>42527.989679</td>\n",
       "      <td>POLYGON ((-87.66707 41.88885, -87.66707 41.888...</td>\n",
       "    </tr>\n",
       "    <tr>\n",
       "      <th>4</th>\n",
       "      <td>60651</td>\n",
       "      <td>9.903962e+07</td>\n",
       "      <td>47970.140153</td>\n",
       "      <td>POLYGON ((-87.70656 41.89555, -87.70672 41.895...</td>\n",
       "    </tr>\n",
       "    <tr>\n",
       "      <th>...</th>\n",
       "      <td>...</td>\n",
       "      <td>...</td>\n",
       "      <td>...</td>\n",
       "      <td>...</td>\n",
       "    </tr>\n",
       "    <tr>\n",
       "      <th>56</th>\n",
       "      <td>60623</td>\n",
       "      <td>1.552855e+08</td>\n",
       "      <td>53406.915617</td>\n",
       "      <td>POLYGON ((-87.69479 41.83008, -87.69486 41.830...</td>\n",
       "    </tr>\n",
       "    <tr>\n",
       "      <th>57</th>\n",
       "      <td>60629</td>\n",
       "      <td>2.111148e+08</td>\n",
       "      <td>58701.325375</td>\n",
       "      <td>POLYGON ((-87.68306 41.75786, -87.68306 41.757...</td>\n",
       "    </tr>\n",
       "    <tr>\n",
       "      <th>58</th>\n",
       "      <td>60620</td>\n",
       "      <td>2.116961e+08</td>\n",
       "      <td>58466.160298</td>\n",
       "      <td>POLYGON ((-87.62373 41.72167, -87.62388 41.721...</td>\n",
       "    </tr>\n",
       "    <tr>\n",
       "      <th>59</th>\n",
       "      <td>60637</td>\n",
       "      <td>1.254243e+08</td>\n",
       "      <td>52377.854541</td>\n",
       "      <td>POLYGON ((-87.57691 41.79511, -87.57700 41.795...</td>\n",
       "    </tr>\n",
       "    <tr>\n",
       "      <th>60</th>\n",
       "      <td>60619</td>\n",
       "      <td>1.678720e+08</td>\n",
       "      <td>53040.907078</td>\n",
       "      <td>POLYGON ((-87.58592 41.75150, -87.58592 41.751...</td>\n",
       "    </tr>\n",
       "  </tbody>\n",
       "</table>\n",
       "<p>61 rows × 4 columns</p>\n",
       "</div>"
      ],
      "text/plain": [
       "      zip    shape_area     shape_len  \\\n",
       "0   60647  1.060523e+08  42720.044406   \n",
       "1   60639  1.274761e+08  48103.782721   \n",
       "2   60707  4.506904e+07  27288.609612   \n",
       "3   60622  7.085383e+07  42527.989679   \n",
       "4   60651  9.903962e+07  47970.140153   \n",
       "..    ...           ...           ...   \n",
       "56  60623  1.552855e+08  53406.915617   \n",
       "57  60629  2.111148e+08  58701.325375   \n",
       "58  60620  2.116961e+08  58466.160298   \n",
       "59  60637  1.254243e+08  52377.854541   \n",
       "60  60619  1.678720e+08  53040.907078   \n",
       "\n",
       "                                             geometry  \n",
       "0   POLYGON ((-87.67762 41.91776, -87.67761 41.917...  \n",
       "1   POLYGON ((-87.72683 41.92265, -87.72693 41.922...  \n",
       "2   POLYGON ((-87.78500 41.90915, -87.78531 41.909...  \n",
       "3   POLYGON ((-87.66707 41.88885, -87.66707 41.888...  \n",
       "4   POLYGON ((-87.70656 41.89555, -87.70672 41.895...  \n",
       "..                                                ...  \n",
       "56  POLYGON ((-87.69479 41.83008, -87.69486 41.830...  \n",
       "57  POLYGON ((-87.68306 41.75786, -87.68306 41.757...  \n",
       "58  POLYGON ((-87.62373 41.72167, -87.62388 41.721...  \n",
       "59  POLYGON ((-87.57691 41.79511, -87.57700 41.795...  \n",
       "60  POLYGON ((-87.58592 41.75150, -87.58592 41.751...  \n",
       "\n",
       "[61 rows x 4 columns]"
      ]
     },
     "execution_count": 29,
     "metadata": {},
     "output_type": "execute_result"
    }
   ],
   "source": [
    "# Reorder columns\n",
    "zip_codes = zip_codes[[\"zip\", \"shape_area\", \"shape_len\", \"geometry\"]]\n",
    "zip_codes"
   ]
  },
  {
   "cell_type": "code",
   "execution_count": 30,
   "metadata": {},
   "outputs": [],
   "source": [
    "# Save cleaned data\n",
    "zip_codes.to_file(clean_data_path + r\"chi_zip_2020_clean.shp\", index_label = False)"
   ]
  },
  {
   "cell_type": "markdown",
   "metadata": {},
   "source": [
    "### City Boundary Shape Data\n",
    "Source: https://data.cityofchicago.org/Facilities-Geographic-Boundaries/Boundaries-City/ewy2-6yfk\n",
    "\n",
    "No major cleaning needed at this time. But feel free to use this notebook if you need to clean the data in the future!"
   ]
  },
  {
   "cell_type": "code",
   "execution_count": 31,
   "metadata": {},
   "outputs": [],
   "source": [
    "# Chicago city boundaries\n",
    "city = gpd.read_file(raw_data_path + \"chi_city_boundaries/geo_export_800a0aed-6a3b-4680-9314-96031821fd31.shp\")\n",
    "city.to_file(clean_data_path + r\"chi_city_2017_clean.shp\", index_label = False)"
   ]
  },
  {
   "cell_type": "markdown",
   "metadata": {},
   "source": [
    "### Census Tracts Shape Data\n",
    "Source: https://data.cityofchicago.org/Facilities-Geographic-Boundaries/Boundaries-Census-Tracts-2010/5jrd-6zik\n",
    "\n",
    "No major cleaning needed at this time."
   ]
  },
  {
   "cell_type": "code",
   "execution_count": 32,
   "metadata": {},
   "outputs": [],
   "source": [
    "# Chicago census tracts\n",
    "city = gpd.read_file(raw_data_path + \"chi_census_tracts_2010/geo_export_7a79e542-afd7-4706-bfac-74bae2f5488c.shp\")\n",
    "city.to_file(clean_data_path + r\"chi_census_tracts_2010_clean.shp\", index_label = False)"
   ]
  },
  {
   "cell_type": "code",
   "execution_count": null,
   "metadata": {},
   "outputs": [],
   "source": []
  }
 ],
 "metadata": {
  "kernelspec": {
   "display_name": "Python 3 (ipykernel)",
   "language": "python",
   "name": "python3"
  },
  "language_info": {
   "codemirror_mode": {
    "name": "ipython",
    "version": 3
   },
   "file_extension": ".py",
   "mimetype": "text/x-python",
   "name": "python",
   "nbconvert_exporter": "python",
   "pygments_lexer": "ipython3",
   "version": "3.9.16"
  },
  "vscode": {
   "interpreter": {
    "hash": "31f2aee4e71d21fbe5cf8b01ff0e069b9275f58929596ceb00d14d90e3e16cd6"
   }
  }
 },
 "nbformat": 4,
 "nbformat_minor": 4
}
